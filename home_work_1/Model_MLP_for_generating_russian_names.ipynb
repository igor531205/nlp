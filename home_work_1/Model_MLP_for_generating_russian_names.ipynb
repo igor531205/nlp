{
  "nbformat": 4,
  "nbformat_minor": 0,
  "metadata": {
    "colab": {
      "provenance": [],
      "authorship_tag": "ABX9TyP3sMuoHZA1U3h8KpJllPUg",
      "include_colab_link": true
    },
    "kernelspec": {
      "name": "python3",
      "display_name": "Python 3"
    },
    "language_info": {
      "name": "python"
    }
  },
  "cells": [
    {
      "cell_type": "markdown",
      "metadata": {
        "id": "view-in-github",
        "colab_type": "text"
      },
      "source": [
        "<a href=\"https://colab.research.google.com/github/igor531205/nlp/blob/main/home_work_1/Model_MLP_for_generating_russian_names.ipynb\" target=\"_parent\"><img src=\"https://colab.research.google.com/assets/colab-badge.svg\" alt=\"Open In Colab\"/></a>"
      ]
    },
    {
      "cell_type": "markdown",
      "source": [
        "***Выполнил Пушкарев Игорь Игоревич. Группа 23.М08-мм.***"
      ],
      "metadata": {
        "id": "nVmyYXdnD98g"
      }
    },
    {
      "cell_type": "markdown",
      "source": [
        "### Модель генерации имен на основе multilayer perceptron (MLP)."
      ],
      "metadata": {
        "id": "T5wYnQ3Y_pYS"
      }
    },
    {
      "cell_type": "code",
      "source": [
        "import random\n",
        "from urllib import request\n",
        "\n",
        "# read file\n",
        "link = 'https://raw.githubusercontent.com/igor531205/nlp/main/data/names_rus.txt'\n",
        "words = []\n",
        "with request.urlopen(link) as f:\n",
        "    words = f.read().decode().splitlines()\n",
        "\n",
        "random.seed(42)\n",
        "random.shuffle(words)\n",
        "n1 = int(0.85 * len(words))  # 85% training data\n",
        "\n",
        "# Dividing data into training and test sets\n",
        "train_data = words[:n1]\n",
        "test_data = words[n1:]\n",
        "\n",
        "# Save to train.txt\n",
        "link_train = 'train.txt'\n",
        "with open(link_train, 'w', encoding='utf-8') as f:\n",
        "    for item in train_data:\n",
        "        f.write(\"%s\\n\" % item)\n",
        "\n",
        "# Save to test.txt\n",
        "link_test = 'test.txt'\n",
        "with open(link_test, 'w', encoding='utf-8') as f:\n",
        "    for item in test_data:\n",
        "        f.write(\"%s\\n\" % item)\n",
        "\n",
        "print(f'Names saved to {link_train} and {link_test}')"
      ],
      "metadata": {
        "colab": {
          "base_uri": "https://localhost:8080/"
        },
        "id": "uBH8gBYFV6Vr",
        "outputId": "bd973efd-30f7-46e7-af63-8326dd23e392"
      },
      "execution_count": null,
      "outputs": [
        {
          "output_type": "stream",
          "name": "stdout",
          "text": [
            "Names saved to train.txt and test.txt\n"
          ]
        }
      ]
    },
    {
      "cell_type": "code",
      "source": [
        "import torch\n",
        "import torch.nn.functional as F\n",
        "\n",
        "# read file 'train.txt'\n",
        "link_train = 'train.txt'\n",
        "words = open(link_train, 'r').read().splitlines()\n",
        "\n",
        "# build the vocabulary of characters and mappings to/from integers\n",
        "chars = sorted(list(set(''.join(words))))\n",
        "stoi = {s:i+1 for i,s in enumerate(chars)}\n",
        "stoi['.'] = 0\n",
        "itos = {i:s for s,i in stoi.items()}\n",
        "num_chars = len(itos)\n",
        "\n",
        "# build the dataset\n",
        "block_size = 3 # context length: how many characters do we take to predict the next one?\n",
        "\n",
        "def build_dataset(words):\n",
        "  X, Y = [], []\n",
        "  for w in words:\n",
        "\n",
        "    context = [0] * block_size\n",
        "    for ch in w + '.':\n",
        "      ix = stoi[ch]\n",
        "      X.append(context)\n",
        "      Y.append(ix)\n",
        "      context = context[1:] + [ix] # crop and append\n",
        "\n",
        "  X = torch.tensor(X)\n",
        "  Y = torch.tensor(Y)\n",
        "\n",
        "  return X, Y\n",
        "\n",
        "Xtr, Ytr = build_dataset(words)\n",
        "\n",
        "# Initialize weights\n",
        "C = torch.randn((num_chars, 2))\n",
        "\n",
        "ys = C[:,1]\n",
        "xs= C[:,0]\n",
        "\n",
        "tmp=torch.arange(6).view(-1, 3)\n",
        "\n",
        "emb = C[Xtr]\n",
        "\n",
        "W1 = torch.randn((6, 100))\n",
        "b1 = torch.randn(100)\n",
        "\n",
        "h = torch.tanh(emb.view(-1, 6) @ W1 + b1)\n",
        "W2 = torch.randn((100, num_chars))\n",
        "b2 = torch.randn(num_chars)\n",
        "\n",
        "logits = h @ W2 + b2\n",
        "\n",
        "counts = logits.exp()\n",
        "\n",
        "# Calculate probabilities\n",
        "prob = counts / counts.sum(1, keepdims=True)\n",
        "\n",
        "g = torch.Generator().manual_seed(2147483647) # for reproducibility\n",
        "C = torch.randn((num_chars, 10), generator=g)\n",
        "W1 = torch.randn((30, 200), generator=g)\n",
        "b1 = torch.randn(200, generator=g)\n",
        "W2 = torch.randn((200, num_chars), generator=g)\n",
        "b2 = torch.randn(num_chars, generator=g)\n",
        "parameters = [C, W1, b1, W2, b2]\n",
        "\n",
        "for p in parameters:\n",
        "  p.requires_grad = True\n",
        "\n",
        "# Model optimization\n",
        "lre = torch.linspace(-3, 0, 1000)\n",
        "lrs = 10**lre\n",
        "\n",
        "lri = []\n",
        "lossi = []\n",
        "stepi = []\n",
        "\n",
        "for i in range(20000):\n",
        "\n",
        "  # minibatch construct\n",
        "  ix = torch.randint(0, Xtr.shape[0], (32,))\n",
        "\n",
        "  # forward pass\n",
        "  emb = C[Xtr[ix]] # (32, 3, 10)\n",
        "  h = torch.tanh(emb.view(-1, 30) @ W1 + b1) # (32, 200)\n",
        "  logits = h @ W2 + b2 # (32, 27)\n",
        "  loss = F.cross_entropy(logits, Ytr[ix])\n",
        "\n",
        "  # backward pass\n",
        "  for p in parameters:\n",
        "    p.grad = None\n",
        "  loss.backward()\n",
        "\n",
        "  # update\n",
        "  lr = 0.1 if i < 100000 else 0.01\n",
        "  for p in parameters:\n",
        "    p.data += -lr * p.grad\n",
        "\n",
        "  # track stats\n",
        "  stepi.append(i)\n",
        "  lossi.append(loss.log10().item())\n",
        "\n",
        "emb = C[Xtr] # (32, 3, 2)\n",
        "h = torch.tanh(emb.view(-1, 30) @ W1 + b1) # (32, 100)\n",
        "logits = h @ W2 + b2 # (32, 27)\n",
        "loss = F.cross_entropy(logits, Ytr)\n",
        "\n",
        "# Save the model\n",
        "link_model = 'model.torch'\n",
        "torch.save({'C': C, 'W1': W1, 'b1': b1, 'W2': W2, 'b2': b2}, link_model)\n",
        "\n",
        "print(f'Model saved to {link_model}')"
      ],
      "metadata": {
        "colab": {
          "base_uri": "https://localhost:8080/"
        },
        "id": "EUM8ZJtLV6Sc",
        "outputId": "548cd136-993f-4819-94bc-5886d569d010"
      },
      "execution_count": null,
      "outputs": [
        {
          "output_type": "stream",
          "name": "stdout",
          "text": [
            "Model saved to model.torch\n"
          ]
        }
      ]
    },
    {
      "cell_type": "code",
      "source": [
        "import torch\n",
        "\n",
        "# read file 'test.txt'\n",
        "link_test = 'test.txt'\n",
        "words = open(link_test, 'r').read().splitlines()\n",
        "\n",
        "# build the vocabulary of characters and mappings to/from integers\n",
        "chars = sorted(list(set(''.join(words))))\n",
        "stoi = {s:i+1 for i,s in enumerate(chars)}\n",
        "stoi['.'] = 0\n",
        "itos = {i:s for s,i in stoi.items()}\n",
        "num_chars = len(itos)\n",
        "\n",
        "# build the dataset\n",
        "block_size = 3 # context length: how many characters do we take to predict the next one?\n",
        "\n",
        "def build_dataset(words):\n",
        "  X, Y = [], []\n",
        "  for w in words:\n",
        "\n",
        "    context = [0] * block_size\n",
        "    for ch in w + '.':\n",
        "      ix = stoi[ch]\n",
        "      X.append(context)\n",
        "      Y.append(ix)\n",
        "      context = context[1:] + [ix] # crop and append\n",
        "\n",
        "  X = torch.tensor(X)\n",
        "  Y = torch.tensor(Y)\n",
        "\n",
        "  return X, Y\n",
        "\n",
        "Xte, Yte = build_dataset(words)\n",
        "\n",
        "# Loading a Saved Model\n",
        "link_model = 'model.torch'\n",
        "model = torch.load(link_model)\n",
        "C, W1, b1, W2, b2 = model['C'], model['W1'], model['b1'], model['W2'], model['b2']\n",
        "\n",
        "# sample from the model\n",
        "g = torch.Generator().manual_seed(2147483647 + 10)\n",
        "\n",
        "emb = C[Xte] # (32, 3, 2)\n",
        "h = torch.tanh(emb.view(-1, 30) @ W1 + b1) # (32, 100)\n",
        "logits = h @ W2 + b2 # (32, 27)\n",
        "loss = F.cross_entropy(logits, Yte)\n",
        "print(f'test loss: {loss}')\n",
        "\n",
        "for _ in range(20):\n",
        "\n",
        "    out = []\n",
        "    context = [0] * block_size # initialize with all ...\n",
        "    while True:\n",
        "      emb = C[torch.tensor([context])] # (1,block_size,d)\n",
        "      h = torch.tanh(emb.view(1, -1) @ W1 + b1)\n",
        "      logits = h @ W2 + b2\n",
        "      probs = F.softmax(logits, dim=1)\n",
        "      ix = torch.multinomial(probs, num_samples=1, generator=g).item()\n",
        "      context = context[1:] + [ix]\n",
        "      out.append(ix)\n",
        "      if ix == 0:\n",
        "        break\n",
        "\n",
        "    print(''.join(itos[i] for i in out))"
      ],
      "metadata": {
        "colab": {
          "base_uri": "https://localhost:8080/"
        },
        "id": "E-fri2v3b-yb",
        "outputId": "ee5ce476-ac07-4f1d-ffb5-689362b05eff"
      },
      "execution_count": null,
      "outputs": [
        {
          "output_type": "stream",
          "name": "stdout",
          "text": [
            "test loss: 3.6518492698669434\n",
            "Дония.\n",
            "Мотапа.\n",
            "Дитристина.\n",
            "Ревватимий.\n",
            "Ларь.\n",
            "Равдинарастьян.\n",
            "Посторий.\n",
            "Фирафия.\n",
            "Дфедозард.\n",
            "Анасторий.\n",
            "Жераскерд.\n",
            "Йирий.\n",
            "Дорита.\n",
            "Позалина.\n",
            "Уриса.\n",
            "Энина.\n",
            "Дросийналентиния.\n",
            "Зия.\n",
            "Адраг.\n",
            "Фрисонстанцихон.\n"
          ]
        }
      ]
    },
    {
      "cell_type": "code",
      "source": [],
      "metadata": {
        "id": "67FvEagDcpt7"
      },
      "execution_count": null,
      "outputs": []
    }
  ]
}