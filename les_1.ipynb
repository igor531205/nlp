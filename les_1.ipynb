{
  "nbformat": 4,
  "nbformat_minor": 0,
  "metadata": {
    "colab": {
      "provenance": [],
      "authorship_tag": "ABX9TyOVQgXl3dVRKOye7sP5LV1E",
      "include_colab_link": true
    },
    "kernelspec": {
      "name": "python3",
      "display_name": "Python 3"
    },
    "language_info": {
      "name": "python"
    }
  },
  "cells": [
    {
      "cell_type": "markdown",
      "metadata": {
        "id": "view-in-github",
        "colab_type": "text"
      },
      "source": [
        "<a href=\"https://colab.research.google.com/github/igor531205/nlp/blob/main/les_1.ipynb\" target=\"_parent\"><img src=\"https://colab.research.google.com/assets/colab-badge.svg\" alt=\"Open In Colab\"/></a>"
      ]
    },
    {
      "cell_type": "markdown",
      "source": [
        "***Выполнил Пушкарев Игорь Игоревич. Группа 23.М08-мм.***"
      ],
      "metadata": {
        "id": "nVmyYXdnD98g"
      }
    },
    {
      "cell_type": "markdown",
      "source": [
        "### Модель генерации имен на основе multilayer perceptron (MLP)."
      ],
      "metadata": {
        "id": "T5wYnQ3Y_pYS"
      }
    },
    {
      "cell_type": "code",
      "execution_count": null,
      "metadata": {
        "id": "Obcspn3D8bxx"
      },
      "outputs": [],
      "source": [
        "import torch\n",
        "import torch.nn.functional as F\n",
        "import matplotlib.pyplot as plt # for making figures\n",
        "from urllib import request\n",
        "%matplotlib inline"
      ]
    },
    {
      "cell_type": "code",
      "source": [
        "# read in all the words\n",
        "link = 'https://raw.githubusercontent.com/igor531205/nlp/main/data/names.txt'\n",
        "words = []\n",
        "with request.urlopen(link) as f:\n",
        "    words = f.read().decode().splitlines()\n",
        "words[:8]"
      ],
      "metadata": {
        "id": "9gx1eL5KJsnN",
        "colab": {
          "base_uri": "https://localhost:8080/"
        },
        "outputId": "b20387b1-a4ce-43e3-ad5b-0c88d2af9b4d"
      },
      "execution_count": null,
      "outputs": [
        {
          "output_type": "execute_result",
          "data": {
            "text/plain": [
              "['emma', 'olivia', 'ava', 'isabella', 'sophia', 'charlotte', 'mia', 'amelia']"
            ]
          },
          "metadata": {},
          "execution_count": 2
        }
      ]
    },
    {
      "cell_type": "code",
      "source": [
        "len(words)"
      ],
      "metadata": {
        "id": "mFI9dBecJub5",
        "colab": {
          "base_uri": "https://localhost:8080/"
        },
        "outputId": "df0cee7f-d356-40c3-b551-49453b629035"
      },
      "execution_count": null,
      "outputs": [
        {
          "output_type": "execute_result",
          "data": {
            "text/plain": [
              "32033"
            ]
          },
          "metadata": {},
          "execution_count": 3
        }
      ]
    },
    {
      "cell_type": "code",
      "source": [
        "# build the vocabulary of characters and mappings to/from integers\n",
        "chars = sorted(list(set(''.join(words))))\n",
        "stoi = {s:i+1 for i,s in enumerate(chars)}\n",
        "stoi['.'] = 0\n",
        "itos = {i:s for s,i in stoi.items()}\n",
        "print(itos)"
      ],
      "metadata": {
        "id": "sA_Cjym6JwN-",
        "colab": {
          "base_uri": "https://localhost:8080/"
        },
        "outputId": "385f5b11-64cc-4634-9aa9-7bf524e1c34e"
      },
      "execution_count": null,
      "outputs": [
        {
          "output_type": "stream",
          "name": "stdout",
          "text": [
            "{1: 'a', 2: 'b', 3: 'c', 4: 'd', 5: 'e', 6: 'f', 7: 'g', 8: 'h', 9: 'i', 10: 'j', 11: 'k', 12: 'l', 13: 'm', 14: 'n', 15: 'o', 16: 'p', 17: 'q', 18: 'r', 19: 's', 20: 't', 21: 'u', 22: 'v', 23: 'w', 24: 'x', 25: 'y', 26: 'z', 0: '.'}\n"
          ]
        }
      ]
    },
    {
      "cell_type": "code",
      "source": [
        "# build the dataset\n",
        "\n",
        "block_size = 3 # context length: how many characters do we take to predict the next one?\n",
        "X, Y = [], []\n",
        "for w in words:\n",
        "\n",
        "  #print(w)\n",
        "  context = [0] * block_size\n",
        "  for ch in w + '.':\n",
        "    ix = stoi[ch]\n",
        "    X.append(context)\n",
        "    Y.append(ix)\n",
        "    #print(''.join(itos[i] for i in context), '--->', itos[ix])\n",
        "    context = context[1:] + [ix] # crop and append\n",
        "\n",
        "X = torch.tensor(X)\n",
        "Y = torch.tensor(Y)"
      ],
      "metadata": {
        "id": "m_XNKou2JzCS"
      },
      "execution_count": null,
      "outputs": []
    },
    {
      "cell_type": "code",
      "source": [
        "X.shape, X.dtype, Y.shape, Y.dtype"
      ],
      "metadata": {
        "id": "fxU0wV58LOOK",
        "colab": {
          "base_uri": "https://localhost:8080/"
        },
        "outputId": "c4174f6d-9b41-466c-83ea-79a387c0bc9c"
      },
      "execution_count": null,
      "outputs": [
        {
          "output_type": "execute_result",
          "data": {
            "text/plain": [
              "(torch.Size([228146, 3]), torch.int64, torch.Size([228146]), torch.int64)"
            ]
          },
          "metadata": {},
          "execution_count": 6
        }
      ]
    },
    {
      "cell_type": "code",
      "source": [
        "# build the dataset\n",
        "block_size = 3 # context length: how many characters do we take to predict the next one?\n",
        "\n",
        "def build_dataset(words):\n",
        "  X, Y = [], []\n",
        "  for w in words:\n",
        "\n",
        "    #print(w)\n",
        "    context = [0] * block_size\n",
        "    for ch in w + '.':\n",
        "      ix = stoi[ch]\n",
        "      X.append(context)\n",
        "      Y.append(ix)\n",
        "      #print(''.join(itos[i] for i in context), '--->', itos[ix])\n",
        "      context = context[1:] + [ix] # crop and append\n",
        "\n",
        "  X = torch.tensor(X)\n",
        "  Y = torch.tensor(Y)\n",
        "  print(X.shape, Y.shape)\n",
        "  return X, Y\n",
        "\n",
        "import random\n",
        "random.seed(42)\n",
        "random.shuffle(words)\n",
        "n1 = int(0.8*len(words))\n",
        "n2 = int(0.9*len(words))\n",
        "\n",
        "Xtr, Ytr = build_dataset(words[:n1])\n",
        "Xdev, Ydev = build_dataset(words[n1:n2])\n",
        "Xte, Yte = build_dataset(words[n2:])"
      ],
      "metadata": {
        "id": "yniWqFNwLPIc",
        "colab": {
          "base_uri": "https://localhost:8080/"
        },
        "outputId": "2676d9d9-6283-4aab-9a44-ddfa09489ee3"
      },
      "execution_count": null,
      "outputs": [
        {
          "output_type": "stream",
          "name": "stdout",
          "text": [
            "torch.Size([182625, 3]) torch.Size([182625])\n",
            "torch.Size([22655, 3]) torch.Size([22655])\n",
            "torch.Size([22866, 3]) torch.Size([22866])\n"
          ]
        }
      ]
    },
    {
      "cell_type": "code",
      "source": [
        "C = torch.randn((27, 2))"
      ],
      "metadata": {
        "id": "XD6wjfC5LTaI"
      },
      "execution_count": null,
      "outputs": []
    },
    {
      "cell_type": "code",
      "source": [
        "ys = C[:,1]\n",
        "xs= C[:,0]\n",
        "plt.scatter(xs, ys)"
      ],
      "metadata": {
        "id": "0rjxC-yaLTXs",
        "colab": {
          "base_uri": "https://localhost:8080/",
          "height": 448
        },
        "outputId": "685085cb-3bdd-4e63-87ee-486a2995bc0a"
      },
      "execution_count": null,
      "outputs": [
        {
          "output_type": "execute_result",
          "data": {
            "text/plain": [
              "<matplotlib.collections.PathCollection at 0x7b0477dba560>"
            ]
          },
          "metadata": {},
          "execution_count": 9
        },
        {
          "output_type": "display_data",
          "data": {
            "text/plain": [
              "<Figure size 640x480 with 1 Axes>"
            ],
            "image/png": "[encoded data removed]"
          },
          "metadata": {}
        }
      ]
    },
    {
      "cell_type": "code",
      "source": [
        "tmp=torch.arange(6).view(-1, 3)\n",
        "tmp\n",
        "C[tmp]"
      ],
      "metadata": {
        "id": "i14d8DrGLTU7",
        "colab": {
          "base_uri": "https://localhost:8080/"
        },
        "outputId": "bb48fb6c-7dbd-447d-8546-11d66c9b6940"
      },
      "execution_count": null,
      "outputs": [
        {
          "output_type": "execute_result",
          "data": {
            "text/plain": [
              "tensor([[[-2.8671,  0.5380],\n",
              "         [-0.4858,  1.0389],\n",
              "         [ 0.4219, -0.3745]],\n",
              "\n",
              "        [[-1.1125,  1.8619],\n",
              "         [ 0.6583,  0.9059],\n",
              "         [-0.7322,  1.0933]]])"
            ]
          },
          "metadata": {},
          "execution_count": 10
        }
      ]
    },
    {
      "cell_type": "code",
      "source": [
        "emb = C[X]\n",
        "emb.shape"
      ],
      "metadata": {
        "id": "qu78c_9pLTSC",
        "colab": {
          "base_uri": "https://localhost:8080/"
        },
        "outputId": "f555fe8a-ce0c-4a30-ac7a-2db3b35350db"
      },
      "execution_count": null,
      "outputs": [
        {
          "output_type": "execute_result",
          "data": {
            "text/plain": [
              "torch.Size([228146, 3, 2])"
            ]
          },
          "metadata": {},
          "execution_count": 11
        }
      ]
    },
    {
      "cell_type": "code",
      "source": [
        "W1 = torch.randn((6, 100))\n",
        "b1 = torch.randn(100)"
      ],
      "metadata": {
        "id": "afq-Ux2jLTLt"
      },
      "execution_count": null,
      "outputs": []
    },
    {
      "cell_type": "code",
      "source": [
        "emb.view(-1, 6).shape"
      ],
      "metadata": {
        "id": "uhAqoIN_LZWS",
        "colab": {
          "base_uri": "https://localhost:8080/"
        },
        "outputId": "bc1075e9-518c-4ab1-dbf0-55a414c1d232"
      },
      "execution_count": null,
      "outputs": [
        {
          "output_type": "execute_result",
          "data": {
            "text/plain": [
              "torch.Size([228146, 6])"
            ]
          },
          "metadata": {},
          "execution_count": 13
        }
      ]
    },
    {
      "cell_type": "code",
      "source": [
        "h = torch.tanh(emb.view(-1, 6) @ W1 + b1)"
      ],
      "metadata": {
        "id": "oNnng-nsLZTi"
      },
      "execution_count": null,
      "outputs": []
    },
    {
      "cell_type": "code",
      "source": [
        "h"
      ],
      "metadata": {
        "id": "3QSswhc9LZQ3",
        "colab": {
          "base_uri": "https://localhost:8080/"
        },
        "outputId": "4c835b1b-ce91-4fc3-9ef9-037ef49bbced"
      },
      "execution_count": null,
      "outputs": [
        {
          "output_type": "execute_result",
          "data": {
            "text/plain": [
              "tensor([[-0.9999, -0.9979, -0.9995,  ...,  1.0000,  0.7777,  0.9994],\n",
              "        [-0.9230, -0.9987, -0.9997,  ...,  1.0000,  0.9825,  0.9983],\n",
              "        [-0.5888, -0.9968, -0.9989,  ...,  0.9999,  0.9795,  0.9929],\n",
              "        ...,\n",
              "        [ 0.3283, -0.7521,  0.9692,  ..., -0.6597,  0.5350, -0.9879],\n",
              "        [ 0.9760,  0.7922,  0.4067,  ..., -0.5779,  0.9715, -0.5915],\n",
              "        [ 0.6694, -0.9920,  0.4337,  ...,  0.9591,  0.8572, -0.9395]])"
            ]
          },
          "metadata": {},
          "execution_count": 15
        }
      ]
    },
    {
      "cell_type": "code",
      "source": [
        "h.shape"
      ],
      "metadata": {
        "id": "jKS2FOP0LZMO",
        "colab": {
          "base_uri": "https://localhost:8080/"
        },
        "outputId": "c7b669a9-d560-41e6-a8ed-30b66c96517c"
      },
      "execution_count": null,
      "outputs": [
        {
          "output_type": "execute_result",
          "data": {
            "text/plain": [
              "torch.Size([228146, 100])"
            ]
          },
          "metadata": {},
          "execution_count": 16
        }
      ]
    },
    {
      "cell_type": "code",
      "source": [
        "W2 = torch.randn((100, 27))\n",
        "b2 = torch.randn(27)"
      ],
      "metadata": {
        "id": "1fcBeBm-LjJe"
      },
      "execution_count": null,
      "outputs": []
    },
    {
      "cell_type": "code",
      "source": [
        "logits = h @ W2 + b2"
      ],
      "metadata": {
        "id": "rHTEvOx2LjGo"
      },
      "execution_count": null,
      "outputs": []
    },
    {
      "cell_type": "code",
      "source": [
        "logits.shape"
      ],
      "metadata": {
        "id": "W5zONSrMLjD7",
        "colab": {
          "base_uri": "https://localhost:8080/"
        },
        "outputId": "8551400f-ec80-4325-b169-10020dc9c25a"
      },
      "execution_count": null,
      "outputs": [
        {
          "output_type": "execute_result",
          "data": {
            "text/plain": [
              "torch.Size([228146, 27])"
            ]
          },
          "metadata": {},
          "execution_count": 19
        }
      ]
    },
    {
      "cell_type": "code",
      "source": [
        "counts = logits.exp()"
      ],
      "metadata": {
        "id": "HCglv9UILjA1"
      },
      "execution_count": null,
      "outputs": []
    },
    {
      "cell_type": "code",
      "source": [
        "prob = counts / counts.sum(1, keepdims=True)"
      ],
      "metadata": {
        "id": "8cWpkTO5Li9w"
      },
      "execution_count": null,
      "outputs": []
    },
    {
      "cell_type": "code",
      "source": [
        "prob.shape"
      ],
      "metadata": {
        "id": "_rKaq68QLpFf",
        "colab": {
          "base_uri": "https://localhost:8080/"
        },
        "outputId": "aa67b235-2040-4791-a77f-0a1ff2295682"
      },
      "execution_count": null,
      "outputs": [
        {
          "output_type": "execute_result",
          "data": {
            "text/plain": [
              "torch.Size([228146, 27])"
            ]
          },
          "metadata": {},
          "execution_count": 22
        }
      ]
    },
    {
      "cell_type": "code",
      "source": [
        "Y.shape"
      ],
      "metadata": {
        "id": "-FZsgSO6Lo9S",
        "colab": {
          "base_uri": "https://localhost:8080/"
        },
        "outputId": "69afab94-3f84-4a43-c5d9-abc38d129e1b"
      },
      "execution_count": null,
      "outputs": [
        {
          "output_type": "execute_result",
          "data": {
            "text/plain": [
              "torch.Size([228146])"
            ]
          },
          "metadata": {},
          "execution_count": 23
        }
      ]
    },
    {
      "cell_type": "code",
      "source": [
        "# ?????\n",
        "#loss = -prob[torch.arange(27), Y].log().mean()\n",
        "#loss\n",
        "\n",
        "# ------------ now made respectable :) ---------------"
      ],
      "metadata": {
        "id": "yuBMhbPNLo6f"
      },
      "execution_count": null,
      "outputs": []
    },
    {
      "cell_type": "code",
      "source": [
        "Xtr.shape, Ytr.shape # dataset"
      ],
      "metadata": {
        "id": "7eSGe29TLu2j",
        "colab": {
          "base_uri": "https://localhost:8080/"
        },
        "outputId": "87b083b2-2883-4fc1-85b8-27a1f92cfe6c"
      },
      "execution_count": null,
      "outputs": [
        {
          "output_type": "execute_result",
          "data": {
            "text/plain": [
              "(torch.Size([182625, 3]), torch.Size([182625]))"
            ]
          },
          "metadata": {},
          "execution_count": 25
        }
      ]
    },
    {
      "cell_type": "code",
      "source": [
        "g = torch.Generator().manual_seed(2147483647) # for reproducibility\n",
        "C = torch.randn((27, 10), generator=g)\n",
        "W1 = torch.randn((30, 200), generator=g)\n",
        "b1 = torch.randn(200, generator=g)\n",
        "W2 = torch.randn((200, 27), generator=g)\n",
        "b2 = torch.randn(27, generator=g)\n",
        "parameters = [C, W1, b1, W2, b2]"
      ],
      "metadata": {
        "id": "mTwTIa38Luzr"
      },
      "execution_count": null,
      "outputs": []
    },
    {
      "cell_type": "code",
      "source": [
        "# visualize dimensions 0 and 1 of the embedding matrix C for all characters\n",
        "plt.figure(figsize=(8,8))\n",
        "plt.scatter(C[:,0].data, C[:,1].data, s=200)\n",
        "for i in range(C.shape[0]):\n",
        "    plt.text(C[i,0].item(), C[i,1].item(), itos[i], ha=\"center\", va=\"center\", color='white')\n",
        "plt.grid('minor')"
      ],
      "metadata": {
        "id": "NIHS_oOILuwl",
        "colab": {
          "base_uri": "https://localhost:8080/",
          "height": 676
        },
        "outputId": "0379757c-1e3f-437f-8339-612d9f4c229e"
      },
      "execution_count": null,
      "outputs": [
        {
          "output_type": "display_data",
          "data": {
            "text/plain": [
              "<Figure size 800x800 with 1 Axes>"
            ],
            "image/png": "[encoded data removed]"
          },
          "metadata": {}
        }
      ]
    },
    {
      "cell_type": "code",
      "source": [
        "sum(p.nelement() for p in parameters) # number of parameters in total"
      ],
      "metadata": {
        "id": "mimOx940Lutq",
        "colab": {
          "base_uri": "https://localhost:8080/"
        },
        "outputId": "19832002-e36c-4946-9be1-889c904e86c5"
      },
      "execution_count": null,
      "outputs": [
        {
          "output_type": "execute_result",
          "data": {
            "text/plain": [
              "11897"
            ]
          },
          "metadata": {},
          "execution_count": 28
        }
      ]
    },
    {
      "cell_type": "code",
      "source": [
        "for p in parameters:\n",
        "  p.requires_grad = True"
      ],
      "metadata": {
        "id": "OGOhqoKkL5YK"
      },
      "execution_count": null,
      "outputs": []
    },
    {
      "cell_type": "code",
      "source": [
        "lre = torch.linspace(-3, 0, 1000)\n",
        "lrs = 10**lre"
      ],
      "metadata": {
        "id": "7XfWSOvFL5VU"
      },
      "execution_count": null,
      "outputs": []
    },
    {
      "cell_type": "code",
      "source": [
        "lri = []\n",
        "lossi = []\n",
        "stepi = []"
      ],
      "metadata": {
        "id": "jPNQoLijL5Sg"
      },
      "execution_count": null,
      "outputs": []
    },
    {
      "cell_type": "code",
      "source": [
        "for i in range(20000):\n",
        "\n",
        "  # minibatch construct\n",
        "  ix = torch.randint(0, Xtr.shape[0], (32,))\n",
        "\n",
        "  # forward pass\n",
        "  emb = C[Xtr[ix]] # (32, 3, 10)\n",
        "  h = torch.tanh(emb.view(-1, 30) @ W1 + b1) # (32, 200)\n",
        "  logits = h @ W2 + b2 # (32, 27)\n",
        "  loss = F.cross_entropy(logits, Ytr[ix])\n",
        "  #print(loss.item())\n",
        "\n",
        "  # backward pass\n",
        "  for p in parameters:\n",
        "    p.grad = None\n",
        "  loss.backward()\n",
        "\n",
        "  # update\n",
        "  #lr = lrs[i]\n",
        "  lr = 0.1 if i < 100000 else 0.01\n",
        "  for p in parameters:\n",
        "    p.data += -lr * p.grad\n",
        "\n",
        "  # track stats\n",
        "  #lri.append(lre[i])\n",
        "  stepi.append(i)\n",
        "  lossi.append(loss.log10().item())\n",
        "\n",
        "#print(loss.item())"
      ],
      "metadata": {
        "id": "R2QXYbZ7L5Pl"
      },
      "execution_count": null,
      "outputs": []
    },
    {
      "cell_type": "code",
      "source": [
        "plt.plot(stepi, lossi)"
      ],
      "metadata": {
        "id": "p8c5X04vLo3h",
        "colab": {
          "base_uri": "https://localhost:8080/",
          "height": 448
        },
        "outputId": "e55a5c3b-89a7-4361-f722-a8a98d4a49cd"
      },
      "execution_count": null,
      "outputs": [
        {
          "output_type": "execute_result",
          "data": {
            "text/plain": [
              "[<matplotlib.lines.Line2D at 0x7b0478ba8790>]"
            ]
          },
          "metadata": {},
          "execution_count": 33
        },
        {
          "output_type": "display_data",
          "data": {
            "text/plain": [
              "<Figure size 640x480 with 1 Axes>"
            ],
            "image/png": "[encoded data removed]"
          },
          "metadata": {}
        }
      ]
    },
    {
      "cell_type": "code",
      "source": [
        "emb = C[Xtr] # (32, 3, 2)\n",
        "h = torch.tanh(emb.view(-1, 30) @ W1 + b1) # (32, 100)\n",
        "logits = h @ W2 + b2 # (32, 27)\n",
        "loss = F.cross_entropy(logits, Ytr)\n",
        "loss"
      ],
      "metadata": {
        "id": "xZ68eiQwL9sY",
        "colab": {
          "base_uri": "https://localhost:8080/"
        },
        "outputId": "62492756-1749-487d-a5f6-58551aa9a958"
      },
      "execution_count": null,
      "outputs": [
        {
          "output_type": "execute_result",
          "data": {
            "text/plain": [
              "tensor(2.4481, grad_fn=<NllLossBackward0>)"
            ]
          },
          "metadata": {},
          "execution_count": 34
        }
      ]
    },
    {
      "cell_type": "code",
      "source": [
        "emb = C[Xdev] # (32, 3, 2)\n",
        "h = torch.tanh(emb.view(-1, 30) @ W1 + b1) # (32, 100)\n",
        "logits = h @ W2 + b2 # (32, 27)\n",
        "loss = F.cross_entropy(logits, Ydev)\n",
        "loss"
      ],
      "metadata": {
        "id": "Oxyx8nS_L9p1",
        "colab": {
          "base_uri": "https://localhost:8080/"
        },
        "outputId": "f62a4017-dc92-4fff-be26-289464c900b3"
      },
      "execution_count": null,
      "outputs": [
        {
          "output_type": "execute_result",
          "data": {
            "text/plain": [
              "tensor(2.4597, grad_fn=<NllLossBackward0>)"
            ]
          },
          "metadata": {},
          "execution_count": 35
        }
      ]
    },
    {
      "cell_type": "code",
      "source": [
        "# visualize dimensions 0 and 1 of the embedding matrix C for all characters\n",
        "plt.figure(figsize=(8,8))\n",
        "plt.scatter(C[:,0].data, C[:,1].data, s=200)\n",
        "for i in range(C.shape[0]):\n",
        "    plt.text(C[i,0].item(), C[i,1].item(), itos[i], ha=\"center\", va=\"center\", color='white')\n",
        "plt.grid('minor')"
      ],
      "metadata": {
        "id": "hlzaFnOxL9mu",
        "colab": {
          "base_uri": "https://localhost:8080/",
          "height": 676
        },
        "outputId": "918e2c05-b53b-4d11-f73b-2bf5281e325e"
      },
      "execution_count": null,
      "outputs": [
        {
          "output_type": "display_data",
          "data": {
            "text/plain": [
              "<Figure size 800x800 with 1 Axes>"
            ],
            "image/png": "[encoded data removed]"
          },
          "metadata": {}
        }
      ]
    },
    {
      "cell_type": "code",
      "source": [
        "# training split, dev/validation split, test split\n",
        "# 80%, 10%, 10%"
      ],
      "metadata": {
        "id": "raL0RcShMJj0"
      },
      "execution_count": null,
      "outputs": []
    },
    {
      "cell_type": "code",
      "source": [
        "context = [0] * block_size\n",
        "C[torch.tensor([context])].shape"
      ],
      "metadata": {
        "id": "JMvDTeiwMJhW",
        "colab": {
          "base_uri": "https://localhost:8080/"
        },
        "outputId": "7b69487d-4d12-48d7-d4c1-f2f825117b93"
      },
      "execution_count": null,
      "outputs": [
        {
          "output_type": "execute_result",
          "data": {
            "text/plain": [
              "torch.Size([1, 3, 10])"
            ]
          },
          "metadata": {},
          "execution_count": 38
        }
      ]
    },
    {
      "cell_type": "code",
      "source": [
        "# sample from the model\n",
        "g = torch.Generator().manual_seed(2147483647 + 10)\n",
        "\n",
        "for _ in range(20):\n",
        "\n",
        "    out = []\n",
        "    context = [0] * block_size # initialize with all ...\n",
        "    while True:\n",
        "      emb = C[torch.tensor([context])] # (1,block_size,d)\n",
        "      h = torch.tanh(emb.view(1, -1) @ W1 + b1)\n",
        "      logits = h @ W2 + b2\n",
        "      probs = F.softmax(logits, dim=1)\n",
        "      ix = torch.multinomial(probs, num_samples=1, generator=g).item()\n",
        "      context = context[1:] + [ix]\n",
        "      out.append(ix)\n",
        "      if ix == 0:\n",
        "        break\n",
        "\n",
        "    print(''.join(itos[i] for i in out))"
      ],
      "metadata": {
        "id": "K9fx-pHeMJeS",
        "colab": {
          "base_uri": "https://localhost:8080/"
        },
        "outputId": "d6fc1937-3545-4686-9a5e-85d0beac9292"
      },
      "execution_count": null,
      "outputs": [
        {
          "output_type": "stream",
          "name": "stdout",
          "text": [
            "eria.\n",
            "mayah.\n",
            "seel.\n",
            "nehon.\n",
            "larethrus.\n",
            "jarlen.\n",
            "aderydoelin.\n",
            "elinne.\n",
            "lene.\n",
            "sesonna.\n",
            "lelyn.\n",
            "monterin.\n",
            "sadbergson.\n",
            "jeston.\n",
            "johikleonnterion.\n",
            "bennedi.\n",
            "kylynn.\n",
            "elsylie.\n",
            "moston.\n",
            "mahilina.\n"
          ]
        }
      ]
    },
    {
      "cell_type": "code",
      "source": [],
      "metadata": {
        "id": "Utej9pAZW6EP"
      },
      "execution_count": null,
      "outputs": []
    },
    {
      "cell_type": "code",
      "source": [
        "import random\n",
        "from urllib import request\n",
        "\n",
        "# read file\n",
        "link = 'https://raw.githubusercontent.com/igor531205/nlp/main/data/names.txt'\n",
        "words = []\n",
        "with request.urlopen(link) as f:\n",
        "    words = f.read().decode().splitlines()\n",
        "\n",
        "random.seed(42)\n",
        "random.shuffle(words)\n",
        "n1 = int(0.85 * len(words))  # 85% training data\n",
        "\n",
        "# Dividing data into training and test sets\n",
        "train_data = words[:n1]\n",
        "test_data = words[n1:]\n",
        "\n",
        "# Save to train.txt\n",
        "link_train = 'train_en.txt'\n",
        "with open(link_train, 'w', encoding='utf-8') as f:\n",
        "    for item in train_data:\n",
        "        f.write(\"%s\\n\" % item)\n",
        "\n",
        "# Save to test.txt\n",
        "link_test = 'test_en.txt'\n",
        "with open(link_test, 'w', encoding='utf-8') as f:\n",
        "    for item in test_data:\n",
        "        f.write(\"%s\\n\" % item)\n",
        "\n",
        "print(f'Names saved to {link_train} and {link_test}')"
      ],
      "metadata": {
        "colab": {
          "base_uri": "https://localhost:8080/"
        },
        "id": "qtmw74EWW6Bd",
        "outputId": "5a906d87-e560-4f28-dc0f-3b56ddfdfb0e"
      },
      "execution_count": null,
      "outputs": [
        {
          "output_type": "stream",
          "name": "stdout",
          "text": [
            "Names saved to train_en.txt and test_en.txt\n"
          ]
        }
      ]
    },
    {
      "cell_type": "code",
      "source": [
        "import torch\n",
        "import torch.nn.functional as F\n",
        "\n",
        "# read file 'train_en.txt'\n",
        "link_train = 'train_en.txt'\n",
        "words = open(link_train, 'r').read().splitlines()\n",
        "\n",
        "# build the vocabulary of characters and mappings to/from integers\n",
        "chars = sorted(list(set(''.join(words))))\n",
        "stoi = {s:i+1 for i,s in enumerate(chars)}\n",
        "stoi['.'] = 0\n",
        "itos = {i:s for s,i in stoi.items()}\n",
        "num_chars = len(itos)\n",
        "\n",
        "# build the dataset\n",
        "block_size = 3 # context length: how many characters do we take to predict the next one?\n",
        "\n",
        "def build_dataset(words):\n",
        "  X, Y = [], []\n",
        "  for w in words:\n",
        "\n",
        "    context = [0] * block_size\n",
        "    for ch in w + '.':\n",
        "      ix = stoi[ch]\n",
        "      X.append(context)\n",
        "      Y.append(ix)\n",
        "      context = context[1:] + [ix] # crop and append\n",
        "\n",
        "  X = torch.tensor(X)\n",
        "  Y = torch.tensor(Y)\n",
        "\n",
        "  return X, Y\n",
        "\n",
        "Xtr, Ytr = build_dataset(words)\n",
        "\n",
        "# Initialize weights\n",
        "C = torch.randn((num_chars, 2))\n",
        "\n",
        "ys = C[:,1]\n",
        "xs= C[:,0]\n",
        "\n",
        "tmp=torch.arange(6).view(-1, 3)\n",
        "\n",
        "emb = C[Xtr]\n",
        "\n",
        "W1 = torch.randn((6, 100))\n",
        "b1 = torch.randn(100)\n",
        "\n",
        "h = torch.tanh(emb.view(-1, 6) @ W1 + b1)\n",
        "W2 = torch.randn((100, num_chars))\n",
        "b2 = torch.randn(num_chars)\n",
        "\n",
        "logits = h @ W2 + b2\n",
        "\n",
        "counts = logits.exp()\n",
        "\n",
        "# Calculate probabilities\n",
        "prob = counts / counts.sum(1, keepdims=True)\n",
        "\n",
        "g = torch.Generator().manual_seed(2147483647) # for reproducibility\n",
        "C = torch.randn((num_chars, 10), generator=g)\n",
        "W1 = torch.randn((30, 200), generator=g)\n",
        "b1 = torch.randn(200, generator=g)\n",
        "W2 = torch.randn((200, num_chars), generator=g)\n",
        "b2 = torch.randn(num_chars, generator=g)\n",
        "parameters = [C, W1, b1, W2, b2]\n",
        "\n",
        "for p in parameters:\n",
        "  p.requires_grad = True\n",
        "\n",
        "# Model optimization\n",
        "lre = torch.linspace(-3, 0, 1000)\n",
        "lrs = 10**lre\n",
        "\n",
        "lri = []\n",
        "lossi = []\n",
        "stepi = []\n",
        "\n",
        "for i in range(20000):\n",
        "\n",
        "  # minibatch construct\n",
        "  ix = torch.randint(0, Xtr.shape[0], (32,))\n",
        "\n",
        "  # forward pass\n",
        "  emb = C[Xtr[ix]] # (32, 3, 10)\n",
        "  h = torch.tanh(emb.view(-1, 30) @ W1 + b1) # (32, 200)\n",
        "  logits = h @ W2 + b2 # (32, 27)\n",
        "  loss = F.cross_entropy(logits, Ytr[ix])\n",
        "\n",
        "  # backward pass\n",
        "  for p in parameters:\n",
        "    p.grad = None\n",
        "  loss.backward()\n",
        "\n",
        "  # update\n",
        "  lr = 0.1 if i < 100000 else 0.01\n",
        "  for p in parameters:\n",
        "    p.data += -lr * p.grad\n",
        "\n",
        "  # track stats\n",
        "  stepi.append(i)\n",
        "  lossi.append(loss.log10().item())\n",
        "\n",
        "emb = C[Xtr] # (32, 3, 2)\n",
        "h = torch.tanh(emb.view(-1, 30) @ W1 + b1) # (32, 100)\n",
        "logits = h @ W2 + b2 # (32, 27)\n",
        "loss = F.cross_entropy(logits, Ytr)\n",
        "\n",
        "# Save the model\n",
        "link_model = 'model_en.torch'\n",
        "torch.save({'C': C, 'W1': W1, 'b1': b1, 'W2': W2, 'b2': b2}, link_model)\n",
        "\n",
        "print(f'Model saved to {link_model}')"
      ],
      "metadata": {
        "colab": {
          "base_uri": "https://localhost:8080/"
        },
        "id": "lxhNsAQiW5-y",
        "outputId": "91fbcba6-799e-4f6f-ef7b-e58dd7917a8f"
      },
      "execution_count": null,
      "outputs": [
        {
          "output_type": "stream",
          "name": "stdout",
          "text": [
            "Model saved to model_en.torch\n"
          ]
        }
      ]
    },
    {
      "cell_type": "code",
      "source": [
        "import torch\n",
        "\n",
        "# read file 'test_en.txt'\n",
        "link_test = 'test_en.txt'\n",
        "words = open(link_test, 'r').read().splitlines()\n",
        "\n",
        "# build the vocabulary of characters and mappings to/from integers\n",
        "chars = sorted(list(set(''.join(words))))\n",
        "stoi = {s:i+1 for i,s in enumerate(chars)}\n",
        "stoi['.'] = 0\n",
        "itos = {i:s for s,i in stoi.items()}\n",
        "num_chars = len(itos)\n",
        "\n",
        "# build the dataset\n",
        "block_size = 3 # context length: how many characters do we take to predict the next one?\n",
        "\n",
        "def build_dataset(words):\n",
        "  X, Y = [], []\n",
        "  for w in words:\n",
        "\n",
        "    context = [0] * block_size\n",
        "    for ch in w + '.':\n",
        "      ix = stoi[ch]\n",
        "      X.append(context)\n",
        "      Y.append(ix)\n",
        "      context = context[1:] + [ix] # crop and append\n",
        "\n",
        "  X = torch.tensor(X)\n",
        "  Y = torch.tensor(Y)\n",
        "\n",
        "  return X, Y\n",
        "\n",
        "Xte, Yte = build_dataset(words)\n",
        "\n",
        "# Loading a Saved Model\n",
        "link_model = 'model_en.torch'\n",
        "model = torch.load(link_model)\n",
        "C, W1, b1, W2, b2 = model['C'], model['W1'], model['b1'], model['W2'], model['b2']\n",
        "\n",
        "# sample from the model\n",
        "g = torch.Generator().manual_seed(2147483647 + 10)\n",
        "\n",
        "emb = C[Xte] # (32, 3, 2)\n",
        "h = torch.tanh(emb.view(-1, 30) @ W1 + b1) # (32, 100)\n",
        "logits = h @ W2 + b2 # (32, 27)\n",
        "loss = F.cross_entropy(logits, Yte)\n",
        "print(f'test loss: {loss}')\n",
        "\n",
        "for _ in range(20):\n",
        "\n",
        "    out = []\n",
        "    context = [0] * block_size # initialize with all ...\n",
        "    while True:\n",
        "      emb = C[torch.tensor([context])] # (1,block_size,d)\n",
        "      h = torch.tanh(emb.view(1, -1) @ W1 + b1)\n",
        "      logits = h @ W2 + b2\n",
        "      probs = F.softmax(logits, dim=1)\n",
        "      ix = torch.multinomial(probs, num_samples=1, generator=g).item()\n",
        "      context = context[1:] + [ix]\n",
        "      out.append(ix)\n",
        "      if ix == 0:\n",
        "        break\n",
        "\n",
        "    print(''.join(itos[i] for i in out))"
      ],
      "metadata": {
        "colab": {
          "base_uri": "https://localhost:8080/"
        },
        "id": "ZwIUrAt0W57s",
        "outputId": "24714906-3694-4fc2-ffc0-3414f35571af"
      },
      "execution_count": null,
      "outputs": [
        {
          "output_type": "stream",
          "name": "stdout",
          "text": [
            "test loss: 2.493852376937866\n",
            "mora.\n",
            "lona.\n",
            "zige.\n",
            "madheyah.\n",
            "rethaniekdrie.\n",
            "core.\n",
            "korelingelline.\n",
            "loie.\n",
            "soso.\n",
            "narleigy.\n",
            "molte.\n",
            "carshigeri.\n",
            "hirie.\n",
            "tri.\n",
            "joselyn.\n",
            "jote.\n",
            "con.\n",
            "brethder.\n",
            "ysh.\n",
            "lyeke.\n"
          ]
        }
      ]
    },
    {
      "cell_type": "code",
      "source": [],
      "metadata": {
        "id": "OwSIQl8gV6Yx"
      },
      "execution_count": null,
      "outputs": []
    },
    {
      "cell_type": "code",
      "source": [
        "import random\n",
        "from urllib import request\n",
        "\n",
        "# read file\n",
        "link = 'https://raw.githubusercontent.com/igor531205/nlp/main/data/names_rus.txt'\n",
        "words = []\n",
        "with request.urlopen(link) as f:\n",
        "    words = f.read().decode().splitlines()\n",
        "\n",
        "random.seed(42)\n",
        "random.shuffle(words)\n",
        "n1 = int(0.85 * len(words))  # 85% training data\n",
        "\n",
        "# Dividing data into training and test sets\n",
        "train_data = words[:n1]\n",
        "test_data = words[n1:]\n",
        "\n",
        "# Save to train.txt\n",
        "link_train = 'train.txt'\n",
        "with open(link_train, 'w', encoding='utf-8') as f:\n",
        "    for item in train_data:\n",
        "        f.write(\"%s\\n\" % item)\n",
        "\n",
        "# Save to test.txt\n",
        "link_test = 'test.txt'\n",
        "with open(link_test, 'w', encoding='utf-8') as f:\n",
        "    for item in test_data:\n",
        "        f.write(\"%s\\n\" % item)\n",
        "\n",
        "print(f'Names saved to {link_train} and {link_test}')"
      ],
      "metadata": {
        "colab": {
          "base_uri": "https://localhost:8080/"
        },
        "id": "uBH8gBYFV6Vr",
        "outputId": "bd973efd-30f7-46e7-af63-8326dd23e392"
      },
      "execution_count": null,
      "outputs": [
        {
          "output_type": "stream",
          "name": "stdout",
          "text": [
            "Names saved to train.txt and test.txt\n"
          ]
        }
      ]
    },
    {
      "cell_type": "code",
      "source": [
        "import torch\n",
        "import torch.nn.functional as F\n",
        "\n",
        "# read file 'train.txt'\n",
        "link_train = 'train.txt'\n",
        "words = open(link_train, 'r').read().splitlines()\n",
        "\n",
        "# build the vocabulary of characters and mappings to/from integers\n",
        "chars = sorted(list(set(''.join(words))))\n",
        "stoi = {s:i+1 for i,s in enumerate(chars)}\n",
        "stoi['.'] = 0\n",
        "itos = {i:s for s,i in stoi.items()}\n",
        "num_chars = len(itos)\n",
        "\n",
        "# build the dataset\n",
        "block_size = 3 # context length: how many characters do we take to predict the next one?\n",
        "\n",
        "def build_dataset(words):\n",
        "  X, Y = [], []\n",
        "  for w in words:\n",
        "\n",
        "    context = [0] * block_size\n",
        "    for ch in w + '.':\n",
        "      ix = stoi[ch]\n",
        "      X.append(context)\n",
        "      Y.append(ix)\n",
        "      context = context[1:] + [ix] # crop and append\n",
        "\n",
        "  X = torch.tensor(X)\n",
        "  Y = torch.tensor(Y)\n",
        "\n",
        "  return X, Y\n",
        "\n",
        "Xtr, Ytr = build_dataset(words)\n",
        "\n",
        "# Initialize weights\n",
        "C = torch.randn((num_chars, 2))\n",
        "\n",
        "ys = C[:,1]\n",
        "xs= C[:,0]\n",
        "\n",
        "tmp=torch.arange(6).view(-1, 3)\n",
        "\n",
        "emb = C[Xtr]\n",
        "\n",
        "W1 = torch.randn((6, 100))\n",
        "b1 = torch.randn(100)\n",
        "\n",
        "h = torch.tanh(emb.view(-1, 6) @ W1 + b1)\n",
        "W2 = torch.randn((100, num_chars))\n",
        "b2 = torch.randn(num_chars)\n",
        "\n",
        "logits = h @ W2 + b2\n",
        "\n",
        "counts = logits.exp()\n",
        "\n",
        "# Calculate probabilities\n",
        "prob = counts / counts.sum(1, keepdims=True)\n",
        "\n",
        "g = torch.Generator().manual_seed(2147483647) # for reproducibility\n",
        "C = torch.randn((num_chars, 10), generator=g)\n",
        "W1 = torch.randn((30, 200), generator=g)\n",
        "b1 = torch.randn(200, generator=g)\n",
        "W2 = torch.randn((200, num_chars), generator=g)\n",
        "b2 = torch.randn(num_chars, generator=g)\n",
        "parameters = [C, W1, b1, W2, b2]\n",
        "\n",
        "for p in parameters:\n",
        "  p.requires_grad = True\n",
        "\n",
        "# Model optimization\n",
        "lre = torch.linspace(-3, 0, 1000)\n",
        "lrs = 10**lre\n",
        "\n",
        "lri = []\n",
        "lossi = []\n",
        "stepi = []\n",
        "\n",
        "for i in range(20000):\n",
        "\n",
        "  # minibatch construct\n",
        "  ix = torch.randint(0, Xtr.shape[0], (32,))\n",
        "\n",
        "  # forward pass\n",
        "  emb = C[Xtr[ix]] # (32, 3, 10)\n",
        "  h = torch.tanh(emb.view(-1, 30) @ W1 + b1) # (32, 200)\n",
        "  logits = h @ W2 + b2 # (32, 27)\n",
        "  loss = F.cross_entropy(logits, Ytr[ix])\n",
        "\n",
        "  # backward pass\n",
        "  for p in parameters:\n",
        "    p.grad = None\n",
        "  loss.backward()\n",
        "\n",
        "  # update\n",
        "  lr = 0.1 if i < 100000 else 0.01\n",
        "  for p in parameters:\n",
        "    p.data += -lr * p.grad\n",
        "\n",
        "  # track stats\n",
        "  stepi.append(i)\n",
        "  lossi.append(loss.log10().item())\n",
        "\n",
        "emb = C[Xtr] # (32, 3, 2)\n",
        "h = torch.tanh(emb.view(-1, 30) @ W1 + b1) # (32, 100)\n",
        "logits = h @ W2 + b2 # (32, 27)\n",
        "loss = F.cross_entropy(logits, Ytr)\n",
        "\n",
        "# Save the model\n",
        "link_model = 'model.torch'\n",
        "torch.save({'C': C, 'W1': W1, 'b1': b1, 'W2': W2, 'b2': b2}, link_model)\n",
        "\n",
        "print(f'Model saved to {link_model}')"
      ],
      "metadata": {
        "colab": {
          "base_uri": "https://localhost:8080/"
        },
        "id": "EUM8ZJtLV6Sc",
        "outputId": "548cd136-993f-4819-94bc-5886d569d010"
      },
      "execution_count": null,
      "outputs": [
        {
          "output_type": "stream",
          "name": "stdout",
          "text": [
            "Model saved to model.torch\n"
          ]
        }
      ]
    },
    {
      "cell_type": "code",
      "source": [
        "import torch\n",
        "\n",
        "# read file 'test.txt'\n",
        "link_test = 'test.txt'\n",
        "words = open(link_test, 'r').read().splitlines()\n",
        "\n",
        "# build the vocabulary of characters and mappings to/from integers\n",
        "chars = sorted(list(set(''.join(words))))\n",
        "stoi = {s:i+1 for i,s in enumerate(chars)}\n",
        "stoi['.'] = 0\n",
        "itos = {i:s for s,i in stoi.items()}\n",
        "num_chars = len(itos)\n",
        "\n",
        "# build the dataset\n",
        "block_size = 3 # context length: how many characters do we take to predict the next one?\n",
        "\n",
        "def build_dataset(words):\n",
        "  X, Y = [], []\n",
        "  for w in words:\n",
        "\n",
        "    context = [0] * block_size\n",
        "    for ch in w + '.':\n",
        "      ix = stoi[ch]\n",
        "      X.append(context)\n",
        "      Y.append(ix)\n",
        "      context = context[1:] + [ix] # crop and append\n",
        "\n",
        "  X = torch.tensor(X)\n",
        "  Y = torch.tensor(Y)\n",
        "\n",
        "  return X, Y\n",
        "\n",
        "Xte, Yte = build_dataset(words)\n",
        "\n",
        "# Loading a Saved Model\n",
        "link_model = 'model.torch'\n",
        "model = torch.load(link_model)\n",
        "C, W1, b1, W2, b2 = model['C'], model['W1'], model['b1'], model['W2'], model['b2']\n",
        "\n",
        "# sample from the model\n",
        "g = torch.Generator().manual_seed(2147483647 + 10)\n",
        "\n",
        "emb = C[Xte] # (32, 3, 2)\n",
        "h = torch.tanh(emb.view(-1, 30) @ W1 + b1) # (32, 100)\n",
        "logits = h @ W2 + b2 # (32, 27)\n",
        "loss = F.cross_entropy(logits, Yte)\n",
        "print(f'test loss: {loss}')\n",
        "\n",
        "for _ in range(20):\n",
        "\n",
        "    out = []\n",
        "    context = [0] * block_size # initialize with all ...\n",
        "    while True:\n",
        "      emb = C[torch.tensor([context])] # (1,block_size,d)\n",
        "      h = torch.tanh(emb.view(1, -1) @ W1 + b1)\n",
        "      logits = h @ W2 + b2\n",
        "      probs = F.softmax(logits, dim=1)\n",
        "      ix = torch.multinomial(probs, num_samples=1, generator=g).item()\n",
        "      context = context[1:] + [ix]\n",
        "      out.append(ix)\n",
        "      if ix == 0:\n",
        "        break\n",
        "\n",
        "    print(''.join(itos[i] for i in out))"
      ],
      "metadata": {
        "colab": {
          "base_uri": "https://localhost:8080/"
        },
        "id": "E-fri2v3b-yb",
        "outputId": "ee5ce476-ac07-4f1d-ffb5-689362b05eff"
      },
      "execution_count": null,
      "outputs": [
        {
          "output_type": "stream",
          "name": "stdout",
          "text": [
            "test loss: 3.6518492698669434\n",
            "Дония.\n",
            "Мотапа.\n",
            "Дитристина.\n",
            "Ревватимий.\n",
            "Ларь.\n",
            "Равдинарастьян.\n",
            "Посторий.\n",
            "Фирафия.\n",
            "Дфедозард.\n",
            "Анасторий.\n",
            "Жераскерд.\n",
            "Йирий.\n",
            "Дорита.\n",
            "Позалина.\n",
            "Уриса.\n",
            "Энина.\n",
            "Дросийналентиния.\n",
            "Зия.\n",
            "Адраг.\n",
            "Фрисонстанцихон.\n"
          ]
        }
      ]
    }
  ]
}